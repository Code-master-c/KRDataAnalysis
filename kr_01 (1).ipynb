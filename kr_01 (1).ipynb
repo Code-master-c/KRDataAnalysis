{
 "cells": [
  {
   "cell_type": "markdown",
   "id": "80547322-bad1-4a2e-afdb-86ab3b26005f",
   "metadata": {},
   "source": [
    "# Контрольная работа №1\n",
    "\n",
    "Время на выполнение 1 час 20 минут."
   ]
  },
  {
   "cell_type": "code",
   "execution_count": 26,
   "id": "237a3154-a3a0-44e0-ab33-de7a216c8661",
   "metadata": {},
   "outputs": [],
   "source": [
    "import pandas as pd\n",
    "import numpy as np\n",
    "from sklearn.datasets import load_wine"
   ]
  },
  {
   "cell_type": "markdown",
   "id": "2e036250-9515-4422-b94a-5fe0b51e8052",
   "metadata": {},
   "source": [
    "## Задание №1 (3 балла)\n",
    "\n",
    "Реализовать алгоритм классификации KNN для мультиклассовой классификации с методом `predict_proba` для предсказания вероятностей классов.\n",
    "\n",
    "Использовать датасет Wine (`load_wine` из `sklearn.datasets`)."
   ]
  },
  {
   "cell_type": "code",
   "execution_count": 78,
   "id": "0420cb8b-d44c-45da-9d1d-194f92565a89",
   "metadata": {},
   "outputs": [],
   "source": [
    "wine_data = load_wine()"
   ]
  },
  {
   "cell_type": "code",
   "execution_count": 79,
   "id": "4f191d31-d6a6-434b-9862-fd29f71c441e",
   "metadata": {},
   "outputs": [
    {
     "data": {
      "text/plain": [
       "array([[1.423e+01, 1.710e+00, 2.430e+00, ..., 1.040e+00, 3.920e+00,\n",
       "        1.065e+03],\n",
       "       [1.320e+01, 1.780e+00, 2.140e+00, ..., 1.050e+00, 3.400e+00,\n",
       "        1.050e+03],\n",
       "       [1.316e+01, 2.360e+00, 2.670e+00, ..., 1.030e+00, 3.170e+00,\n",
       "        1.185e+03],\n",
       "       ...,\n",
       "       [1.327e+01, 4.280e+00, 2.260e+00, ..., 5.900e-01, 1.560e+00,\n",
       "        8.350e+02],\n",
       "       [1.317e+01, 2.590e+00, 2.370e+00, ..., 6.000e-01, 1.620e+00,\n",
       "        8.400e+02],\n",
       "       [1.413e+01, 4.100e+00, 2.740e+00, ..., 6.100e-01, 1.600e+00,\n",
       "        5.600e+02]])"
      ]
     },
     "execution_count": 79,
     "metadata": {},
     "output_type": "execute_result"
    }
   ],
   "source": [
    "wine_data.data"
   ]
  },
  {
   "cell_type": "code",
   "execution_count": 80,
   "id": "51d372ac-6890-4dac-8297-eaf31093a988",
   "metadata": {},
   "outputs": [
    {
     "data": {
      "text/plain": [
       "array([0, 0, 0, 0, 0, 0, 0, 0, 0, 0, 0, 0, 0, 0, 0, 0, 0, 0, 0, 0, 0, 0,\n",
       "       0, 0, 0, 0, 0, 0, 0, 0, 0, 0, 0, 0, 0, 0, 0, 0, 0, 0, 0, 0, 0, 0,\n",
       "       0, 0, 0, 0, 0, 0, 0, 0, 0, 0, 0, 0, 0, 0, 0, 1, 1, 1, 1, 1, 1, 1,\n",
       "       1, 1, 1, 1, 1, 1, 1, 1, 1, 1, 1, 1, 1, 1, 1, 1, 1, 1, 1, 1, 1, 1,\n",
       "       1, 1, 1, 1, 1, 1, 1, 1, 1, 1, 1, 1, 1, 1, 1, 1, 1, 1, 1, 1, 1, 1,\n",
       "       1, 1, 1, 1, 1, 1, 1, 1, 1, 1, 1, 1, 1, 1, 1, 1, 1, 1, 1, 1, 2, 2,\n",
       "       2, 2, 2, 2, 2, 2, 2, 2, 2, 2, 2, 2, 2, 2, 2, 2, 2, 2, 2, 2, 2, 2,\n",
       "       2, 2, 2, 2, 2, 2, 2, 2, 2, 2, 2, 2, 2, 2, 2, 2, 2, 2, 2, 2, 2, 2,\n",
       "       2, 2])"
      ]
     },
     "execution_count": 80,
     "metadata": {},
     "output_type": "execute_result"
    }
   ],
   "source": [
    "wine_data.target"
   ]
  },
  {
   "cell_type": "code",
   "execution_count": 83,
   "id": "d6731c37-919e-4ce5-8bc4-9cbc9f6ef228",
   "metadata": {},
   "outputs": [],
   "source": [
    "from sklearn.preprocessing import StandardScaler"
   ]
  },
  {
   "cell_type": "code",
   "execution_count": 85,
   "id": "61961787-3ef5-4150-a045-edf135830cd0",
   "metadata": {},
   "outputs": [],
   "source": [
    "class KNN:\n",
    "    def __init__(self, k, metric='euclidean'):\n",
    "        self.k = k\n",
    "        self.metric = metric\n",
    "        self.scaler = StandardScaler()\n",
    "\n",
    "    def fit(self, X_train, y_train):\n",
    "        self.scaler.fit(X_train)\n",
    "        self.X_train = self.scaler.transform(X_train)\n",
    "        self.y_train = y_train\n",
    "\n",
    "    def compute_distance(self, a, b):\n",
    "        if self.metric == 'euclidean':\n",
    "            return np.sqrt(((a - b) ** 2).sum())\n",
    "        elif self.metric == 'manhattan':\n",
    "            return np.abs(a - b).sum()\n",
    "        elif self.metric == 'cosine':\n",
    "            norm_a = np.linalg.norm(a)\n",
    "            norm_b = np.linalg.norm(b)\n",
    "\n",
    "            if norm_a == 0 or norm_b == 0:\n",
    "                return 1.0\n",
    "            return 1 - np.dot(a, b) / (norm_a * norm_b)\n",
    "        else:\n",
    "            raise ValueError(f\"Введите верную метрику: {self.metric}\")\n",
    "\n",
    "    def predict(self, X_test):\n",
    "        transformed_X_test = self.scaler.transform(X_test)\n",
    "        distance_matrix = np.zeros((X_test.shape[0], self.X_train.shape[0]))\n",
    "        \n",
    "        for i in range(len(transformed_X_test)):\n",
    "            for j in range(len(self.X_train)):\n",
    "                distance_matrix[i, j] = self.compute_distance(transformed_X_test[i], self.X_train[j])\n",
    "        \n",
    "        idx_matrix = np.argsort(distance_matrix, axis=1)[:, :self.k]\n",
    "        y_pred_initial = self.y_train[idx_matrix]\n",
    "        y_pred = (y_pred_initial.mean(axis=1) >= 0.5).astype(int)\n",
    "\n",
    "        return y_pred\n",
    "    def predict_proba(self, X_test):\n",
    "        transformed_X_test = self.scaler.transform(X_test)\n",
    "        distance_matrix = np.zeros((X_test.shape[0], self.X_train.shape[0]))\n",
    "\n",
    "        for i in range(len(transformed_X_test)):\n",
    "            for j in range(len(self.X_train)):\n",
    "                distance_matrix[i, j] = self.compute_distance(transformed_X_test[i], self.X_train[j])\n",
    "\n",
    "        idx_matrix = np.argsort(distance_matrix, axis=1)[:, :self.k]\n",
    "        y_pred_initial = self.y_train[idx_matrix]\n",
    "\n",
    "        # Подсчет вероятностей для каждого класса\n",
    "        n_classes = np.max(self.y_train) + 1\n",
    "        probabilities = np.zeros((X_test.shape[0], n_classes))\n",
    "\n",
    "        for i, neighbors in enumerate(y_pred_initial):\n",
    "            class_counts = np.bincount(neighbors, minlength=n_classes)\n",
    "            probabilities[i] = class_counts / self.k\n",
    "\n",
    "        return probabilities"
   ]
  },
  {
   "cell_type": "code",
   "execution_count": 86,
   "id": "e8355a91-96a3-45eb-9ad8-f546a487d63b",
   "metadata": {},
   "outputs": [],
   "source": [
    "X, y = wine_data['data'], wine_data['target']"
   ]
  },
  {
   "cell_type": "code",
   "execution_count": 88,
   "id": "4e7c5ab3-4b6f-4f8b-863a-5ef444a6a9c2",
   "metadata": {},
   "outputs": [],
   "source": [
    "from sklearn.model_selection import train_test_split"
   ]
  },
  {
   "cell_type": "code",
   "execution_count": 89,
   "id": "210cec30-8c16-42e9-839d-86ba667976f2",
   "metadata": {},
   "outputs": [],
   "source": [
    "X_train, X_test, y_train, y_test = train_test_split(X, y, test_size=0.25, shuffle=True)"
   ]
  },
  {
   "cell_type": "code",
   "execution_count": 91,
   "id": "a83648fe-9142-476a-a4c6-2263923fb21f",
   "metadata": {},
   "outputs": [],
   "source": [
    "knn = KNN(3, metric='euclidean')\n",
    "knn.fit(X_train, y_train)\n",
    "my_preds = knn.predict(X_test)"
   ]
  },
  {
   "cell_type": "code",
   "execution_count": 92,
   "id": "17466bfc-1d2f-441d-967b-1b92fe313d2f",
   "metadata": {},
   "outputs": [
    {
     "data": {
      "text/plain": [
       "array([1, 1, 1, 0, 1, 1, 1, 1, 0, 1, 0, 1, 1, 1, 1, 1, 0, 1, 1, 1, 1, 1,\n",
       "       0, 0, 1, 1, 1, 0, 0, 1, 1, 1, 1, 1, 1, 1, 1, 0, 1, 1, 1, 1, 1, 0,\n",
       "       1])"
      ]
     },
     "execution_count": 92,
     "metadata": {},
     "output_type": "execute_result"
    }
   ],
   "source": [
    "my_preds"
   ]
  },
  {
   "cell_type": "code",
   "execution_count": 93,
   "id": "0e7e03b2-0498-4a72-8ee1-a6b20772b1f5",
   "metadata": {},
   "outputs": [
    {
     "data": {
      "text/plain": [
       "array([[0.        , 1.        , 0.        ],\n",
       "       [0.        , 1.        , 0.        ],\n",
       "       [0.        , 0.        , 1.        ],\n",
       "       [1.        , 0.        , 0.        ],\n",
       "       [0.        , 0.        , 1.        ],\n",
       "       [0.        , 0.        , 1.        ],\n",
       "       [0.        , 0.        , 1.        ],\n",
       "       [0.        , 0.        , 1.        ],\n",
       "       [1.        , 0.        , 0.        ],\n",
       "       [0.        , 1.        , 0.        ],\n",
       "       [1.        , 0.        , 0.        ],\n",
       "       [0.        , 0.        , 1.        ],\n",
       "       [0.        , 1.        , 0.        ],\n",
       "       [0.        , 1.        , 0.        ],\n",
       "       [0.        , 0.        , 1.        ],\n",
       "       [0.        , 0.        , 1.        ],\n",
       "       [1.        , 0.        , 0.        ],\n",
       "       [0.        , 1.        , 0.        ],\n",
       "       [0.        , 0.        , 1.        ],\n",
       "       [0.        , 0.        , 1.        ],\n",
       "       [0.        , 0.        , 1.        ],\n",
       "       [0.        , 1.        , 0.        ],\n",
       "       [1.        , 0.        , 0.        ],\n",
       "       [1.        , 0.        , 0.        ],\n",
       "       [0.        , 0.        , 1.        ],\n",
       "       [0.        , 0.        , 1.        ],\n",
       "       [0.        , 1.        , 0.        ],\n",
       "       [1.        , 0.        , 0.        ],\n",
       "       [1.        , 0.        , 0.        ],\n",
       "       [0.        , 1.        , 0.        ],\n",
       "       [0.33333333, 0.66666667, 0.        ],\n",
       "       [0.        , 1.        , 0.        ],\n",
       "       [0.        , 1.        , 0.        ],\n",
       "       [0.        , 0.        , 1.        ],\n",
       "       [0.        , 1.        , 0.        ],\n",
       "       [0.        , 1.        , 0.        ],\n",
       "       [0.        , 1.        , 0.        ],\n",
       "       [1.        , 0.        , 0.        ],\n",
       "       [0.        , 0.        , 1.        ],\n",
       "       [0.        , 1.        , 0.        ],\n",
       "       [0.        , 1.        , 0.        ],\n",
       "       [0.        , 0.        , 1.        ],\n",
       "       [0.        , 1.        , 0.        ],\n",
       "       [1.        , 0.        , 0.        ],\n",
       "       [0.        , 0.        , 1.        ]])"
      ]
     },
     "execution_count": 93,
     "metadata": {},
     "output_type": "execute_result"
    }
   ],
   "source": [
    "knn.predict_proba(X_test)"
   ]
  },
  {
   "cell_type": "markdown",
   "id": "8d94879a-fbed-44e5-8fb6-2fe560d706a3",
   "metadata": {},
   "source": [
    "## Задание №2 (3 балла)\n",
    "\n",
    "В линейной регрессии оценить влияние признаков на результат.\n",
    "\n",
    "Использовать датасет <https://archive.ics.uci.edu/dataset/10/automobile> (из файла `imports-85.data`)"
   ]
  },
  {
   "cell_type": "code",
   "execution_count": 30,
   "id": "23f77563-2bd8-440c-83a5-0a3656431ef2",
   "metadata": {},
   "outputs": [],
   "source": [
    "import pandas as pd\n",
    "from sklearn.preprocessing import RobustScaler\n",
    "from sklearn.preprocessing import StandardScaler\n",
    "from sklearn.model_selection import train_test_split\n",
    "from sklearn import metrics"
   ]
  },
  {
   "cell_type": "code",
   "execution_count": 42,
   "id": "3d2c8465-4943-4a11-b16a-7652a3ad3616",
   "metadata": {},
   "outputs": [],
   "source": [
    "# Действуем как в домашнем задании\n",
    "# загрузим данные из семинара\n",
    "data = pd.read_csv(\"automobile/imports-85.data\", header=None, na_values=\"?\")\n",
    "# подготовка датасета\n",
    "data.loc[:, data.dtypes == \"float64\"] = data.loc[:, data.dtypes == \"float64\"].fillna(\n",
    "    data.loc[:, data.dtypes == \"float64\"].mean(axis=0)\n",
    ")\n",
    "data.loc[:, data.dtypes == \"object\"] = data.loc[:, data.dtypes == \"object\"].fillna(\"\")\n",
    "data_encoded = pd.get_dummies(data)\n",
    "data_encoded.columns = data_encoded.columns.astype(str)\n",
    "X = data_encoded.drop(columns=[\"25\"])\n",
    "y = data_encoded[\"25\"]\n",
    "X_train, X_test, y_train, y_test = train_test_split(X, y, test_size=0.1, random_state=3)"
   ]
  },
  {
   "cell_type": "code",
   "execution_count": 62,
   "id": "cd8111a0-6365-4a3d-a6d5-714ce681d6e6",
   "metadata": {},
   "outputs": [],
   "source": [
    "scaler = StandardScaler() #Стандартизация признаков\n",
    "scaler.fit(X_train)\n",
    "\n",
    "X_train = scaler.transform(X_train)\n",
    "X_test = scaler.transform(X_test)"
   ]
  },
  {
   "cell_type": "code",
   "execution_count": 63,
   "id": "1e334b8c-0864-4b1f-9311-634148886fa2",
   "metadata": {},
   "outputs": [],
   "source": [
    "class MyLinearRegression:\n",
    "    def __init__(self, lr=0.001, num_iter=10000, loss='mse', delta=1.35):\n",
    "        self.lr = lr\n",
    "        self.num_iter = num_iter\n",
    "        self.loss = loss\n",
    "        self.delta = delta\n",
    "\n",
    "    def calculate_loss(self, y, y_pred):\n",
    "        if self.loss == 'mse':\n",
    "            return ((y - y_pred) ** 2).mean()\n",
    "        elif self.loss == 'huber':\n",
    "            error = y - y_pred\n",
    "            is_small_error = np.abs(error) <= self.delta\n",
    "            squared_loss = 0.5 * (error ** 2)\n",
    "            linear_loss = self.delta * (np.abs(error) - 0.5 * self.delta)\n",
    "            return np.where(is_small_error, squared_loss, linear_loss).mean()\n",
    "        else:\n",
    "            raise ValueError(f\"Нет данных о такой функции потерь в текущей реализации: {self.loss}\")\n",
    "\n",
    "    def calculate_dldw(self, y, y_pred, X):\n",
    "        if self.loss == 'mse':\n",
    "            grad_w = (-2 * (X.T * (y - y_pred)).T).mean(axis=0)\n",
    "        elif self.loss == 'huber':\n",
    "            error = y - y_pred\n",
    "            is_small_error = np.abs(error) <= self.delta\n",
    "            grad_huber = np.where(is_small_error, -error, -self.delta * np.sign(error))\n",
    "            grad_w = (X.T * grad_huber).T.mean(axis=0)\n",
    "        return grad_w\n",
    "\n",
    "    def calculate_dldb(self, y, y_pred):\n",
    "        if self.loss == 'mse':\n",
    "            grad_b = (-2 * (y - y_pred)).mean()\n",
    "        elif self.loss == 'huber':\n",
    "            error = y - y_pred\n",
    "            is_small_error = np.abs(error) <= self.delta\n",
    "            grad_huber = np.where(is_small_error, -error, -self.delta * np.sign(error))\n",
    "            grad_b = grad_huber.mean()\n",
    "        return grad_b\n",
    "\n",
    "    def fit(self, X_train, y_train):\n",
    "        X_train = np.array(X_train)\n",
    "        y_train = np.array(y_train)\n",
    "        self.weights = np.random.rand(X_train.shape[1])\n",
    "        self.b = 0\n",
    "        for i in range(self.num_iter):\n",
    "            y_pred = (X_train @ self.weights) + self.b\n",
    "            self.weights -= self.lr * self.calculate_dldw(y_train, y_pred, X_train)\n",
    "            self.b -= self.lr * self.calculate_dldb(y_train, y_pred)\n",
    "\n",
    "    def predict(self, X_test):\n",
    "        return X_test @ self.weights + self.b"
   ]
  },
  {
   "cell_type": "code",
   "execution_count": 64,
   "id": "6dc23f49-f272-4170-8bec-d79555c96766",
   "metadata": {},
   "outputs": [
    {
     "name": "stdout",
     "output_type": "stream",
     "text": [
      "При использовании MSE Loss получим следующие результаты:\n",
      "    MSE_test = 3081152.462586537\n",
      "    MAE_test = 1350.3436991434105\n",
      "    r2_test = 0.9611685107879404\n",
      "\n"
     ]
    }
   ],
   "source": [
    "my_model_mse = MyLinearRegression(loss='mse')\n",
    "my_model_mse.fit(X_train, y_train)\n",
    "preds1 = my_model_mse.predict(X_test)\n",
    "print(\n",
    "    f\"\"\"При использовании MSE Loss получим следующие результаты:\n",
    "    MSE_test = {metrics.mean_squared_error(preds1, y_test)}\n",
    "    MAE_test = {metrics.mean_absolute_error(preds1, y_test)}\n",
    "    r2_test = {metrics.r2_score(y_test, preds1)}\n",
    "\"\"\"\n",
    ")"
   ]
  },
  {
   "cell_type": "code",
   "execution_count": 65,
   "id": "e36b0823-0dc4-4d8b-9267-3feddafb2412",
   "metadata": {},
   "outputs": [
    {
     "name": "stdout",
     "output_type": "stream",
     "text": [
      "При использовании Huber Loss (delta=1.35) получим следующие результаты:\n",
      "    MSE_test = 235108783.47260156\n",
      "    MAE_test = 12482.421132625097\n",
      "    r2_test = -1.9630549931997603\n",
      "\n"
     ]
    }
   ],
   "source": [
    "my_model_huber = MyLinearRegression(loss='huber', delta=1.35)\n",
    "my_model_huber.fit(X_train, y_train)\n",
    "preds2 = my_model_huber.predict(X_test)\n",
    "print(\n",
    "    f\"\"\"При использовании Huber Loss (delta=1.35) получим следующие результаты:\n",
    "    MSE_test = {metrics.mean_squared_error(preds2, y_test)}\n",
    "    MAE_test = {metrics.mean_absolute_error(preds2, y_test)}\n",
    "    r2_test = {metrics.r2_score(y_test, preds2)}\n",
    "\"\"\"\n",
    ")"
   ]
  },
  {
   "cell_type": "markdown",
   "id": "81ec98ee-6124-430e-bf46-b050be8ea01d",
   "metadata": {},
   "source": [
    "В задаче линейной регрессии влияние признаков на результат можно оценить через коэффициенты регрессии. Эти коэффициенты показывают, как изменение каждого признака влияет на предсказанное значение целевой переменной."
   ]
  },
  {
   "cell_type": "code",
   "execution_count": 66,
   "id": "79cdce3a-2d20-416f-a9b1-8861e2be4e73",
   "metadata": {},
   "outputs": [
    {
     "data": {
      "text/plain": [
       "array([ 2.06725067e+01, -4.87197810e+01,  8.63691817e+02, -2.89561686e+02,\n",
       "        1.61029894e+03, -2.54618991e+02,  1.60794759e+03,  1.89632684e+03,\n",
       "       -9.52429391e+01, -3.47696644e+02, -1.99592189e+02,  1.05262363e+03,\n",
       "        8.20102716e+02,  2.91554670e+02,  3.54023098e+02,  4.12793911e+02,\n",
       "        2.39016407e+02,  1.48553156e+03, -2.56902498e+02, -3.91032534e+02,\n",
       "       -6.70440962e+01,  4.29495471e+02,  8.12522119e+02, -7.19996179e+01,\n",
       "        9.54725213e+02, -2.09722557e+02, -6.93747282e+02, -2.59777793e+02,\n",
       "       -2.57613979e+02, -3.63370523e+02,  7.05923251e+02, -2.63277095e+02,\n",
       "        1.99265081e+02, -1.46769860e+02, -4.84278697e+02, -2.17981408e+02,\n",
       "       -2.52686526e+02,  1.09819474e+02, -1.09285413e+02, -3.55678987e+02,\n",
       "        3.56511147e+02, -8.61667808e+01,  1.83524385e+01,  5.60784876e-01,\n",
       "        4.21704063e+02, -4.41404364e+00, -1.49205569e+02,  4.61217751e+01,\n",
       "       -5.55290520e+01, -6.32422638e+01, -2.06954904e+01,  4.89053156e+01,\n",
       "       -5.77407151e+02,  5.78670578e+02, -1.53460953e+02, -2.04596893e+03,\n",
       "       -1.29090062e+02,  5.91004318e+02,  1.55405499e+02, -5.70490263e+02,\n",
       "        3.04937924e+02,  1.12824179e+03, -5.64852616e+02, -4.57868892e+02,\n",
       "        3.08810146e+02,  3.97986870e+02, -2.36327157e+02,  3.04631418e+02,\n",
       "       -2.48661501e+02,  1.57410563e+02, -2.03869321e+02,  1.09742297e+02,\n",
       "       -1.05162196e+02,  4.50539912e+01, -8.67710365e+01, -2.53565896e+02])"
      ]
     },
     "execution_count": 66,
     "metadata": {},
     "output_type": "execute_result"
    }
   ],
   "source": [
    "my_model_mse.weights"
   ]
  },
  {
   "cell_type": "code",
   "execution_count": 72,
   "id": "57b9cf11-f23b-4ebc-a84b-34f77f730d0f",
   "metadata": {},
   "outputs": [
    {
     "data": {
      "image/png": "[encoded data removed]",
      "text/plain": [
       "<Figure size 640x480 with 1 Axes>"
      ]
     },
     "metadata": {},
     "output_type": "display_data"
    }
   ],
   "source": [
    "import matplotlib.pyplot as plt\n",
    "plt.bar(np.arange(0,len(my_model_mse.weights)), my_model_mse.weights)\n",
    "plt.title('')\n",
    "plt.xlabel('Переменная')\n",
    "plt.ylabel('Коэффициент (вклад)')\n",
    "plt.grid(True)\n",
    "plt.show()"
   ]
  },
  {
   "cell_type": "markdown",
   "id": "2a58b933-d1c5-4e70-b5f8-9e60c45bc388",
   "metadata": {},
   "source": [
    "## Задание №3 (4 балла)\n",
    "\n",
    "Изменить решающее дерево под задачу регрессии (минимизация MSE).\n",
    "\n",
    "Использовать тот же датасет, что и в предыдущем задании."
   ]
  },
  {
   "cell_type": "code",
   "execution_count": 95,
   "id": "fb71736d-4cb9-473c-88b0-cc871b93b0fc",
   "metadata": {},
   "outputs": [],
   "source": [
    "from sklearn.preprocessing import RobustScaler\n",
    "from sklearn.metrics import mean_squared_error"
   ]
  },
  {
   "cell_type": "code",
   "execution_count": 96,
   "id": "ba307ccd-c2b4-4d78-bd5c-fd989ce66f6c",
   "metadata": {},
   "outputs": [
    {
     "data": {
      "text/html": [
       "<div>\n",
       "<style scoped>\n",
       "    .dataframe tbody tr th:only-of-type {\n",
       "        vertical-align: middle;\n",
       "    }\n",
       "\n",
       "    .dataframe tbody tr th {\n",
       "        vertical-align: top;\n",
       "    }\n",
       "\n",
       "    .dataframe thead th {\n",
       "        text-align: right;\n",
       "    }\n",
       "</style>\n",
       "<table border=\"1\" class=\"dataframe\">\n",
       "  <thead>\n",
       "    <tr style=\"text-align: right;\">\n",
       "      <th></th>\n",
       "      <th>0</th>\n",
       "      <th>1</th>\n",
       "      <th>2</th>\n",
       "      <th>3</th>\n",
       "      <th>4</th>\n",
       "      <th>5</th>\n",
       "      <th>6</th>\n",
       "      <th>7</th>\n",
       "      <th>8</th>\n",
       "      <th>9</th>\n",
       "      <th>...</th>\n",
       "      <th>16</th>\n",
       "      <th>17</th>\n",
       "      <th>18</th>\n",
       "      <th>19</th>\n",
       "      <th>20</th>\n",
       "      <th>21</th>\n",
       "      <th>22</th>\n",
       "      <th>23</th>\n",
       "      <th>24</th>\n",
       "      <th>25</th>\n",
       "    </tr>\n",
       "  </thead>\n",
       "  <tbody>\n",
       "    <tr>\n",
       "      <th>0</th>\n",
       "      <td>3</td>\n",
       "      <td>NaN</td>\n",
       "      <td>alfa-romero</td>\n",
       "      <td>gas</td>\n",
       "      <td>std</td>\n",
       "      <td>two</td>\n",
       "      <td>convertible</td>\n",
       "      <td>rwd</td>\n",
       "      <td>front</td>\n",
       "      <td>88.6</td>\n",
       "      <td>...</td>\n",
       "      <td>130</td>\n",
       "      <td>mpfi</td>\n",
       "      <td>3.47</td>\n",
       "      <td>2.68</td>\n",
       "      <td>9.0</td>\n",
       "      <td>111.0</td>\n",
       "      <td>5000.0</td>\n",
       "      <td>21</td>\n",
       "      <td>27</td>\n",
       "      <td>13495.0</td>\n",
       "    </tr>\n",
       "    <tr>\n",
       "      <th>1</th>\n",
       "      <td>3</td>\n",
       "      <td>NaN</td>\n",
       "      <td>alfa-romero</td>\n",
       "      <td>gas</td>\n",
       "      <td>std</td>\n",
       "      <td>two</td>\n",
       "      <td>convertible</td>\n",
       "      <td>rwd</td>\n",
       "      <td>front</td>\n",
       "      <td>88.6</td>\n",
       "      <td>...</td>\n",
       "      <td>130</td>\n",
       "      <td>mpfi</td>\n",
       "      <td>3.47</td>\n",
       "      <td>2.68</td>\n",
       "      <td>9.0</td>\n",
       "      <td>111.0</td>\n",
       "      <td>5000.0</td>\n",
       "      <td>21</td>\n",
       "      <td>27</td>\n",
       "      <td>16500.0</td>\n",
       "    </tr>\n",
       "    <tr>\n",
       "      <th>2</th>\n",
       "      <td>1</td>\n",
       "      <td>NaN</td>\n",
       "      <td>alfa-romero</td>\n",
       "      <td>gas</td>\n",
       "      <td>std</td>\n",
       "      <td>two</td>\n",
       "      <td>hatchback</td>\n",
       "      <td>rwd</td>\n",
       "      <td>front</td>\n",
       "      <td>94.5</td>\n",
       "      <td>...</td>\n",
       "      <td>152</td>\n",
       "      <td>mpfi</td>\n",
       "      <td>2.68</td>\n",
       "      <td>3.47</td>\n",
       "      <td>9.0</td>\n",
       "      <td>154.0</td>\n",
       "      <td>5000.0</td>\n",
       "      <td>19</td>\n",
       "      <td>26</td>\n",
       "      <td>16500.0</td>\n",
       "    </tr>\n",
       "    <tr>\n",
       "      <th>3</th>\n",
       "      <td>2</td>\n",
       "      <td>164.0</td>\n",
       "      <td>audi</td>\n",
       "      <td>gas</td>\n",
       "      <td>std</td>\n",
       "      <td>four</td>\n",
       "      <td>sedan</td>\n",
       "      <td>fwd</td>\n",
       "      <td>front</td>\n",
       "      <td>99.8</td>\n",
       "      <td>...</td>\n",
       "      <td>109</td>\n",
       "      <td>mpfi</td>\n",
       "      <td>3.19</td>\n",
       "      <td>3.40</td>\n",
       "      <td>10.0</td>\n",
       "      <td>102.0</td>\n",
       "      <td>5500.0</td>\n",
       "      <td>24</td>\n",
       "      <td>30</td>\n",
       "      <td>13950.0</td>\n",
       "    </tr>\n",
       "    <tr>\n",
       "      <th>4</th>\n",
       "      <td>2</td>\n",
       "      <td>164.0</td>\n",
       "      <td>audi</td>\n",
       "      <td>gas</td>\n",
       "      <td>std</td>\n",
       "      <td>four</td>\n",
       "      <td>sedan</td>\n",
       "      <td>4wd</td>\n",
       "      <td>front</td>\n",
       "      <td>99.4</td>\n",
       "      <td>...</td>\n",
       "      <td>136</td>\n",
       "      <td>mpfi</td>\n",
       "      <td>3.19</td>\n",
       "      <td>3.40</td>\n",
       "      <td>8.0</td>\n",
       "      <td>115.0</td>\n",
       "      <td>5500.0</td>\n",
       "      <td>18</td>\n",
       "      <td>22</td>\n",
       "      <td>17450.0</td>\n",
       "    </tr>\n",
       "  </tbody>\n",
       "</table>\n",
       "<p>5 rows × 26 columns</p>\n",
       "</div>"
      ],
      "text/plain": [
       "   0      1            2    3    4     5            6    7      8     9   ...  \\\n",
       "0   3    NaN  alfa-romero  gas  std   two  convertible  rwd  front  88.6  ...   \n",
       "1   3    NaN  alfa-romero  gas  std   two  convertible  rwd  front  88.6  ...   \n",
       "2   1    NaN  alfa-romero  gas  std   two    hatchback  rwd  front  94.5  ...   \n",
       "3   2  164.0         audi  gas  std  four        sedan  fwd  front  99.8  ...   \n",
       "4   2  164.0         audi  gas  std  four        sedan  4wd  front  99.4  ...   \n",
       "\n",
       "    16    17    18    19    20     21      22  23  24       25  \n",
       "0  130  mpfi  3.47  2.68   9.0  111.0  5000.0  21  27  13495.0  \n",
       "1  130  mpfi  3.47  2.68   9.0  111.0  5000.0  21  27  16500.0  \n",
       "2  152  mpfi  2.68  3.47   9.0  154.0  5000.0  19  26  16500.0  \n",
       "3  109  mpfi  3.19  3.40  10.0  102.0  5500.0  24  30  13950.0  \n",
       "4  136  mpfi  3.19  3.40   8.0  115.0  5500.0  18  22  17450.0  \n",
       "\n",
       "[5 rows x 26 columns]"
      ]
     },
     "execution_count": 96,
     "metadata": {},
     "output_type": "execute_result"
    }
   ],
   "source": [
    "# загрузим данные из семинара\n",
    "data = pd.read_csv(\"imports-85.data\", header=None, na_values=\"?\")\n",
    "data.head()"
   ]
  },
  {
   "cell_type": "code",
   "execution_count": 97,
   "id": "27a5797a-057a-42bf-9dec-2a31f1249de6",
   "metadata": {},
   "outputs": [],
   "source": [
    "# подготовка датасета\n",
    "data.loc[:, data.dtypes == \"float64\"] = data.loc[:, data.dtypes == \"float64\"].fillna(\n",
    "    data.loc[:, data.dtypes == \"float64\"].mean(axis=0)\n",
    ")\n",
    "data.loc[:, data.dtypes == \"object\"] = data.loc[:, data.dtypes == \"object\"].fillna(\"\")\n",
    "data_encoded = pd.get_dummies(data)\n",
    "data_encoded.columns = data_encoded.columns.astype(str)\n",
    "X = data_encoded.drop(columns=[\"25\"])\n",
    "y = data_encoded[\"25\"]"
   ]
  },
  {
   "cell_type": "code",
   "execution_count": 98,
   "id": "a9ce4b87-dc33-4528-bd32-3cfb7d27656b",
   "metadata": {},
   "outputs": [],
   "source": [
    "X_train, X_test, y_train, y_test = train_test_split(X, y, test_size=0.1, random_state=3)"
   ]
  },
  {
   "cell_type": "code",
   "execution_count": 99,
   "id": "06d8574f-e385-4696-a56c-75488c7c175b",
   "metadata": {},
   "outputs": [],
   "source": [
    "scaler = RobustScaler()\n",
    "scaler.fit(X_train)\n",
    "\n",
    "X_train = scaler.transform(X_train)\n",
    "X_test = scaler.transform(X_test)"
   ]
  },
  {
   "cell_type": "code",
   "execution_count": 100,
   "id": "aa804253-f703-4bf9-8bd3-ef408b788b60",
   "metadata": {},
   "outputs": [],
   "source": [
    "class MyDecisionTree:\n",
    "    NON_LEAF = 0\n",
    "    LEAF = 1\n",
    "\n",
    "    def __init__(self, max_depth=None, min_samples_split=2):\n",
    "        self.max_depth = max_depth\n",
    "        self._tree = {}\n",
    "        self.min_samples_split = min_samples_split\n",
    "        self._feature_importances = None\n",
    "\n",
    "    def fit(self, X_train, y_train):\n",
    "        X_train = np.array(X_train)\n",
    "        y_train = np.array(y_train)\n",
    "        self._feature_importances = np.zeros(X_train.shape[1])\n",
    "        self._fit_node(X_train, y_train, 0, 0)\n",
    "\n",
    "    def _mse(self, y):\n",
    "        if len(y) == 0:\n",
    "            return 0\n",
    "        mean_y = np.mean(y)\n",
    "        return np.mean((y - mean_y) ** 2)\n",
    "\n",
    "    def _get_best_split(self, X, y):\n",
    "        best_feature = -1\n",
    "        best_threshold = -1\n",
    "        best_score = np.inf\n",
    "\n",
    "        mse_before = self._mse(y)\n",
    "        \n",
    "        for feature in range(X.shape[1]):\n",
    "            column = X[:, feature]\n",
    "            unique_values = np.unique(column)\n",
    "            for value in unique_values:\n",
    "                left_mask = column <= value\n",
    "                right_mask = column > value\n",
    "\n",
    "                y_left = y[left_mask]\n",
    "                y_right = y[right_mask]\n",
    "\n",
    "                mse_split = (\n",
    "                    len(y_left) / len(y) * self._mse(y_left) +\n",
    "                    len(y_right) / len(y) * self._mse(y_right)\n",
    "                )\n",
    "\n",
    "                if mse_split < best_score:\n",
    "                    best_score = mse_split\n",
    "                    best_feature = feature\n",
    "                    best_threshold = value\n",
    "\n",
    "        self._feature_importances[best_feature] += mse_before - best_score\n",
    "        return best_feature, best_threshold\n",
    "\n",
    "    def _fit_node(self, X, y, node_id, depth):\n",
    "        if (\n",
    "            len(set(y)) == 1\n",
    "            or (self.max_depth is not None and depth == self.max_depth - 1)\n",
    "            or len(y) <= self.min_samples_split\n",
    "        ):\n",
    "            pred = np.mean(y)\n",
    "            self._tree[node_id] = (self.LEAF, pred)\n",
    "            return\n",
    "\n",
    "        feature, threshold = self._get_best_split(X, y)\n",
    "        self._tree[node_id] = (self.NON_LEAF, feature, threshold)\n",
    "\n",
    "        left_mask = X[:, feature] <= threshold\n",
    "        X_left = X[left_mask]\n",
    "        y_left = y[left_mask]\n",
    "\n",
    "        right_mask = X[:, feature] > threshold\n",
    "        X_right = X[right_mask]\n",
    "        y_right = y[right_mask]\n",
    "\n",
    "        self._fit_node(X_left, y_left, 2 * node_id + 1, depth + 1)\n",
    "        self._fit_node(X_right, y_right, 2 * node_id + 2, depth + 1)\n",
    "\n",
    "    def _predict_single(self, x, node_id):\n",
    "        node = self._tree[node_id]\n",
    "        if node[0] == self.LEAF:\n",
    "            return node[1]\n",
    "\n",
    "        _, feature, threshold = node\n",
    "        if x[feature] <= threshold:\n",
    "            return self._predict_single(x, 2 * node_id + 1)\n",
    "        else:\n",
    "            return self._predict_single(x, 2 * node_id + 2)\n",
    "\n",
    "    def predict(self, X_test):\n",
    "        return np.array([self._predict_single(x, 0) for x in X_test])\n"
   ]
  },
  {
   "cell_type": "code",
   "execution_count": 101,
   "id": "48569d8b-a72c-4d20-b463-2acac5de22fd",
   "metadata": {},
   "outputs": [],
   "source": [
    "my_tree = MyDecisionTree(max_depth=3, min_samples_split=3)\n",
    "my_tree.fit(X_train, y_train)"
   ]
  },
  {
   "cell_type": "code",
   "execution_count": 102,
   "id": "341cc495-cbbd-4fa2-95e6-4e50ba6ab4dd",
   "metadata": {},
   "outputs": [],
   "source": [
    "# предсказание\n",
    "y_pred = my_tree.predict(X_test)"
   ]
  },
  {
   "cell_type": "code",
   "execution_count": 103,
   "id": "fe12d31f-4885-415f-b0a3-e64f35ceab6b",
   "metadata": {},
   "outputs": [
    {
     "name": "stdout",
     "output_type": "stream",
     "text": [
      "Mean Squared Error: 4627930.571599865\n"
     ]
    }
   ],
   "source": [
    "# Оценим качество модели\n",
    "mse = mean_squared_error(y_test, y_pred)\n",
    "print(f\"Mean Squared Error: {mse}\")"
   ]
  },
  {
   "cell_type": "code",
   "execution_count": 104,
   "id": "cc64df3f-822d-4962-96a8-32ec28257640",
   "metadata": {},
   "outputs": [
    {
     "name": "stdout",
     "output_type": "stream",
     "text": [
      "True values: [11595.  7975.  5572.  9298.  7738.]\n",
      "Predicted values: [8911.9296246 8911.9296246 8911.9296246 8911.9296246 8911.9296246]\n"
     ]
    }
   ],
   "source": [
    "# сравним истинные значения с предсказанными\n",
    "print(\"True values:\", y_test[:5].values)\n",
    "print(\"Predicted values:\", y_pred[:5])"
   ]
  },
  {
   "cell_type": "code",
   "execution_count": null,
   "id": "eea6c248-e8cc-448c-85ae-b4ce6961d4a9",
   "metadata": {},
   "outputs": [],
   "source": []
  }
 ],
 "metadata": {
  "kernelspec": {
   "display_name": "Python 3 (ipykernel)",
   "language": "python",
   "name": "python3"
  },
  "language_info": {
   "codemirror_mode": {
    "name": "ipython",
    "version": 3
   },
   "file_extension": ".py",
   "mimetype": "text/x-python",
   "name": "python",
   "nbconvert_exporter": "python",
   "pygments_lexer": "ipython3",
   "version": "3.10.11"
  },
  "widgets": {
   "application/vnd.jupyter.widget-state+json": {
    "state": {},
    "version_major": 2,
    "version_minor": 0
   }
  }
 },
 "nbformat": 4,
 "nbformat_minor": 5
}
